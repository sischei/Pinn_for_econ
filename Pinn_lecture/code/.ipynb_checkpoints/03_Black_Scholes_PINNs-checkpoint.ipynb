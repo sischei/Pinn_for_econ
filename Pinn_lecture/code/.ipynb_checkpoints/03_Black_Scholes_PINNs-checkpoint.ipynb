{
 "cells": [
  {
   "cell_type": "markdown",
   "id": "40ee623e-594b-4845-a62a-1ab1dfd071d4",
   "metadata": {},
   "source": [
    "# Solving the Black–Scholes PDE with PINNs\n",
    "\n",
    "This script demonstrates how to solve the Black–Scholes partial differential equation (PDE)\n",
    "for a European call option using a Physics–Informed Neural Network (PINN).\n",
    "\n",
    "The Black–Scholes PDE is given by:\n",
    "\n",
    "$\n",
    "\\frac{\\partial V}{\\partial t} + \\frac{1}{2}\\sigma^2S^2\\frac{\\partial^2 V}{\\partial S^2} + rS\\frac{\\partial V}{\\partial S} - rV = 0,\n",
    "$\n",
    "\n",
    "with terminal condition at maturity \\(t=T\\):\n",
    "\n",
    "$V(S,T) = \\max(S-K, 0).$\n",
    "\n",
    "and boundary conditions:\n",
    "\n",
    "- At $S=0: V(0,t)=0$,\n",
    "- At $S=S_{\\text{max}}: V(S_{\\text{max}},t)= S_{\\text{max}}-K\\exp(-r(T-t))$.\n",
    "\n",
    "We will:\n",
    "- Define a feed-forward neural network in PyTorch that approximates \\(V(S,t)\\).\n",
    "- Use automatic differentiation to compute the necessary derivatives.\n",
    "- Define a loss function that enforces the PDE residual and the boundary/terminal conditions.\n",
    "- Train the network and finally compare the learned solution (at \\(t=0\\)) to the analytical Black–Scholes formula.\n"
   ]
  },
  {
   "cell_type": "code",
   "execution_count": 1,
   "id": "9eea1afe-dbd9-423c-a172-233e355b90e3",
   "metadata": {},
   "outputs": [
    {
     "name": "stdout",
     "output_type": "stream",
     "text": [
      "Using device: cpu\n"
     ]
    }
   ],
   "source": [
    "# %%\n",
    "import numpy as np\n",
    "import torch\n",
    "import torch.nn as nn\n",
    "import torch.optim as optim\n",
    "import matplotlib.pyplot as plt\n",
    "\n",
    "# Use GPU if available\n",
    "device = torch.device(\"cuda\" if torch.cuda.is_available() else \"cpu\")\n",
    "print('Using device:', device)"
   ]
  },
  {
   "cell_type": "markdown",
   "id": "d0971a04-215c-42fa-8458-850514ec5046",
   "metadata": {},
   "source": [
    "\n",
    "## Black–Scholes Parameters and Domain Setup\n",
    "\n",
    "We set the parameters for the Black–Scholes model and define our spatial and temporal domains.\n"
   ]
  },
  {
   "cell_type": "code",
   "execution_count": 2,
   "id": "1477bd2d-4055-4a42-9480-5e9c54adae39",
   "metadata": {},
   "outputs": [],
   "source": [
    "# Black-Scholes parameters\n",
    "r = 0.05        # risk-free interest rate\n",
    "sigma = 0.2     # volatility\n",
    "K = 50.0        # strike price\n",
    "T = 1.0         # maturity time\n",
    "S_max = 100.0   # maximum asset price in our domain\n"
   ]
  },
  {
   "cell_type": "markdown",
   "id": "6ec67393-cbdc-4b06-b815-209233cb7edc",
   "metadata": {},
   "source": [
    "## Defining the PINN Architecture\n",
    "\n",
    "We use a fully connected neural network with three hidden layers and tanh activations.\n",
    "The network takes as input the asset price \\(S\\) and time \\(t\\) and outputs the approximated option price \\(V(S,t)\\)."
   ]
  },
  {
   "cell_type": "code",
   "execution_count": 3,
   "id": "c593a3f5-3f3a-498a-bf5c-a52ec961d925",
   "metadata": {},
   "outputs": [],
   "source": [
    "class PINN(nn.Module):\n",
    "    def __init__(self, layers):\n",
    "        super(PINN, self).__init__()\n",
    "        self.activation = nn.Tanh()\n",
    "        self.layers = nn.ModuleList()\n",
    "        for i in range(len(layers) - 1):\n",
    "            self.layers.append(nn.Linear(layers[i], layers[i+1]))\n",
    "    \n",
    "    def forward(self, x):\n",
    "        # x is a tensor of shape (N,2) with columns [S, t]\n",
    "        for i in range(len(self.layers) - 1):\n",
    "            x = self.activation(self.layers[i](x))\n",
    "        x = self.layers[-1](x)\n",
    "        return x\n",
    "\n",
    "# Define network architecture: input size 2, three hidden layers (50 neurons each), output size 1\n",
    "layers = [2, 50, 50, 50, 1]\n",
    "model = PINN(layers).to(device)\n"
   ]
  },
  {
   "cell_type": "markdown",
   "id": "46e3bd95-4411-48d6-bec2-37f3146aae7c",
   "metadata": {},
   "source": [
    "## Computing the PDE Residual\n",
    "\n",
    "Using PyTorch's automatic differentiation, we compute the necessary derivatives of \\(V(S,t)\\)\n",
    "with respect to \\(S\\) and \\(t\\) to form the residual of the Black–Scholes PDE."
   ]
  },
  {
   "cell_type": "code",
   "execution_count": 4,
   "id": "c46555b3-ca4b-4073-aaf6-aed0070a08db",
   "metadata": {},
   "outputs": [],
   "source": [
    "def pde_residual(model, S, t):\n",
    "    # Ensure S and t require gradients for autograd\n",
    "    S.requires_grad_(True)\n",
    "    t.requires_grad_(True)\n",
    "    \n",
    "    X = torch.cat([S, t], dim=1)  # shape: (N,2)\n",
    "    u = model(X)\n",
    "    \n",
    "    # First derivative with respect to t\n",
    "    u_t = torch.autograd.grad(u, t, grad_outputs=torch.ones_like(u), \n",
    "                              create_graph=True, retain_graph=True)[0]\n",
    "    # First derivative with respect to S\n",
    "    u_S = torch.autograd.grad(u, S, grad_outputs=torch.ones_like(u), \n",
    "                              create_graph=True, retain_graph=True)[0]\n",
    "    # Second derivative with respect to S\n",
    "    u_SS = torch.autograd.grad(u_S, S, grad_outputs=torch.ones_like(u_S), \n",
    "                               create_graph=True, retain_graph=True)[0]\n",
    "    \n",
    "    # Black–Scholes PDE residual:\n",
    "    # u_t + 0.5 * sigma^2 * S^2 * u_SS + r * S * u_S - r * u = 0\n",
    "    residual = u_t + 0.5 * sigma**2 * S**2 * u_SS + r * S * u_S - r * u\n",
    "    return residual"
   ]
  },
  {
   "cell_type": "markdown",
   "id": "2b741e58-8632-4fc2-a02c-b6e69400cf78",
   "metadata": {},
   "source": [
    "## Sampling Points in the Domain\n",
    "\n",
    "We sample points for the interior collocation (to enforce the PDE), and for the boundaries and terminal condition.\n",
    "\n",
    "- **Interior points**: $S \\in (0, S_{{max}})$ and $t \\in (0, T)$.\n",
    "- **Boundary at $S=0$**: $V(0,t)=0$.\n",
    "- **Terminal condition at $t=T$**: $V(S,T)=\\max(S-K,0)$.\n",
    "- **Boundary at $S=S_{max}$**: $V(S_{max},t)=S_{\\text{max}}-K\\exp(-r(T-t))$."
   ]
  },
  {
   "cell_type": "code",
   "execution_count": 5,
   "id": "442700c7-1cfb-430c-b801-08585d01747e",
   "metadata": {},
   "outputs": [],
   "source": [
    "def sampler(n_interior, n_bc, n_terminal, n_bc_Smax):\n",
    "    # Interior collocation points (for PDE residual)\n",
    "    S_colloc = torch.rand((n_interior, 1), device=device) * S_max\n",
    "    t_colloc = torch.rand((n_interior, 1), device=device) * T\n",
    "    \n",
    "    # Boundary condition at S=0: V(0,t)=0\n",
    "    S_bc = torch.zeros((n_bc, 1), device=device)\n",
    "    t_bc = torch.rand((n_bc, 1), device=device) * T\n",
    "    \n",
    "    # Terminal condition at t=T: V(S,T)=max(S-K,0)\n",
    "    S_terminal = torch.rand((n_terminal, 1), device=device) * S_max\n",
    "    t_terminal = T * torch.ones((n_terminal, 1), device=device)\n",
    "    \n",
    "    # Boundary condition at S=S_max: V(S_max,t)= S_max - K*exp(-r*(T-t))\n",
    "    S_bc_Smax = S_max * torch.ones((n_bc_Smax, 1), device=device)\n",
    "    t_bc_Smax = torch.rand((n_bc_Smax, 1), device=device) * T\n",
    "    \n",
    "    return (S_colloc, t_colloc), (S_bc, t_bc), (S_terminal, t_terminal), (S_bc_Smax, t_bc_Smax)\n"
   ]
  },
  {
   "cell_type": "markdown",
   "id": "ccbc3405-e524-424d-9c35-0ae9f83c1f57",
   "metadata": {},
   "source": [
    "## Training the PINN\n",
    "\n",
    "We define the loss as the sum of:\n",
    "- **PDE residual loss** (at interior collocation points),\n",
    "- **Boundary loss** (at $S=0$ and $S=S_{\\text{max}})$,\n",
    "- **Terminal loss** at $t=T$.\n",
    "\n",
    "Then we train the network using the Adam optimizer."
   ]
  },
  {
   "cell_type": "code",
   "execution_count": 6,
   "id": "a95dd276-857e-4c19-94b4-9c8cb3339230",
   "metadata": {},
   "outputs": [
    {
     "name": "stdout",
     "output_type": "stream",
     "text": [
      "Epoch     0 | Total Loss: 2.944416e+03 | PDE: 2.553332e-04 | BC0: 6.549627e-03 | Terminal: 3.461886e+02 | BC_Smax: 2.598221e+03\n",
      "Epoch  1000 | Total Loss: 1.233467e+02 | PDE: 5.889376e+00 | BC0: 3.404347e-03 | Terminal: 4.607662e+00 | BC_Smax: 1.128463e+02\n",
      "Epoch  2000 | Total Loss: 1.140382e+01 | PDE: 7.002735e+00 | BC0: 2.896488e-02 | Terminal: 3.582654e+00 | BC_Smax: 7.894699e-01\n",
      "Epoch  3000 | Total Loss: 3.337752e-01 | PDE: 5.222135e-02 | BC0: 6.953798e-04 | Terminal: 1.924824e-01 | BC_Smax: 8.837602e-02\n",
      "Epoch  4000 | Total Loss: 1.641952e-01 | PDE: 4.321045e-02 | BC0: 2.785545e-04 | Terminal: 1.019393e-01 | BC_Smax: 1.876695e-02\n",
      "Epoch  5000 | Total Loss: 1.774257e-01 | PDE: 1.913752e-02 | BC0: 1.357508e-04 | Terminal: 1.022412e-01 | BC_Smax: 5.591115e-02\n",
      "Epoch  6000 | Total Loss: 1.174349e-01 | PDE: 1.580453e-02 | BC0: 2.432681e-04 | Terminal: 8.904078e-02 | BC_Smax: 1.234628e-02\n",
      "Epoch  7000 | Total Loss: 4.939253e-02 | PDE: 1.384049e-02 | BC0: 2.597044e-05 | Terminal: 3.505002e-02 | BC_Smax: 4.760454e-04\n",
      "Epoch  8000 | Total Loss: 7.513145e-02 | PDE: 1.851698e-02 | BC0: 8.985425e-06 | Terminal: 5.130662e-02 | BC_Smax: 5.298857e-03\n",
      "Epoch  9000 | Total Loss: 3.147515e-02 | PDE: 1.233978e-02 | BC0: 1.585889e-05 | Terminal: 1.875489e-02 | BC_Smax: 3.646230e-04\n"
     ]
    }
   ],
   "source": [
    "optimizer = optim.Adam(model.parameters(), lr=1e-3)\n",
    "num_epochs = 10000\n",
    "\n",
    "# Number of points for each region\n",
    "n_interior = 1000\n",
    "n_bc = 200\n",
    "n_terminal = 200\n",
    "n_bc_Smax = 200\n",
    "\n",
    "for epoch in range(num_epochs):\n",
    "    model.train()\n",
    "    \n",
    "    # Sample points\n",
    "    (S_colloc, t_colloc), (S_bc, t_bc), (S_terminal, t_terminal), (S_bc_Smax, t_bc_Smax) = sampler(n_interior, n_bc, n_terminal, n_bc_Smax)\n",
    "    \n",
    "    optimizer.zero_grad()\n",
    "    \n",
    "    # PDE residual loss\n",
    "    residual = pde_residual(model, S_colloc, t_colloc)\n",
    "    mse_pde = torch.mean(residual**2)\n",
    "    \n",
    "    # Boundary condition at S=0: V(0,t)=0\n",
    "    X_bc = torch.cat([S_bc, t_bc], dim=1)\n",
    "    u_bc = model(X_bc)\n",
    "    mse_bc = torch.mean(u_bc**2)\n",
    "    \n",
    "    # Terminal condition at t=T: V(S,T)=max(S-K,0)\n",
    "    X_terminal = torch.cat([S_terminal, t_terminal], dim=1)\n",
    "    u_terminal = model(X_terminal)\n",
    "    target_terminal = torch.maximum(S_terminal - K, torch.zeros_like(S_terminal))\n",
    "    mse_terminal = torch.mean((u_terminal - target_terminal)**2)\n",
    "    \n",
    "    # Boundary condition at S=S_max: V(S_max,t)= S_max - K*exp(-r*(T-t))\n",
    "    X_bc_Smax = torch.cat([S_bc_Smax, t_bc_Smax], dim=1)\n",
    "    u_bc_Smax = model(X_bc_Smax)\n",
    "    target_bc_Smax = S_max - K * torch.exp(-r*(T - t_bc_Smax))    \n",
    "    mse_bc_Smax = torch.mean((u_bc_Smax - target_bc_Smax)**2)\n",
    "    \n",
    "    loss = mse_pde + mse_bc + mse_terminal + mse_bc_Smax\n",
    "    loss.backward()\n",
    "    optimizer.step()\n",
    "    \n",
    "    if epoch % 1000 == 0:\n",
    "        print(f\"Epoch {epoch:5d} | Total Loss: {loss.item():.6e} | PDE: {mse_pde.item():.6e} | BC0: {mse_bc.item():.6e} | Terminal: {mse_terminal.item():.6e} | BC_Smax: {mse_bc_Smax.item():.6e}\")\n",
    "\n",
    "    \n"
   ]
  },
  {
   "cell_type": "markdown",
   "id": "3cd3b9a7-da98-4bc9-948b-214839d55878",
   "metadata": {},
   "source": [
    "## Evaluating the PINN Solution\n",
    "\n",
    "After training, we evaluate the network at \\(t=0\\) (current time) for a range of asset prices \\(S\\)\n",
    "and compare it with the analytical Black–Scholes formula for a European call option."
   ]
  },
  {
   "cell_type": "code",
   "execution_count": 7,
   "id": "14d3fc7e-e0a0-4d68-8eb2-e1d039746636",
   "metadata": {},
   "outputs": [],
   "source": [
    "# Generate asset prices for evaluation\n",
    "S_vals = np.linspace(0, S_max, 200)\n",
    "t_val = 0.0  # current time\n",
    "S_tensor = torch.tensor(S_vals.reshape(-1, 1), dtype=torch.float32, device=device)\n",
    "t_tensor = torch.tensor(t_val * np.ones_like(S_vals).reshape(-1, 1), dtype=torch.float32, device=device)\n",
    "\n",
    "model.eval()\n",
    "with torch.no_grad():\n",
    "    X_eval = torch.cat([S_tensor, t_tensor], dim=1)\n",
    "    u_pred = model(X_eval).cpu().numpy().flatten()"
   ]
  },
  {
   "cell_type": "markdown",
   "id": "e4bb1470-a468-40b4-b078-6a37f3237cba",
   "metadata": {},
   "source": [
    "## Analytical Black-Scholes Solution and Comparison\n",
    "\n",
    "We compare the PINN solution with the analytical solution for a European call option.\n"
   ]
  },
  {
   "cell_type": "code",
   "execution_count": 8,
   "id": "272e6184-3d43-4842-9324-651c633d642a",
   "metadata": {},
   "outputs": [],
   "source": [
    "from scipy.stats import norm\n",
    "\n",
    "def black_scholes_call(S, K, T, r, sigma):\n",
    "    # At t=0, time to maturity is T.\n",
    "    # To avoid division by zero for S=0, we use a small epsilon.\n",
    "    eps = 1e-8\n",
    "    d1 = (np.log(np.maximum(S, eps)/K) + (r + 0.5*sigma**2)*T) / (sigma * np.sqrt(T))\n",
    "    d2 = d1 - sigma * np.sqrt(T)\n",
    "    call = S * norm.cdf(d1) - K * np.exp(-r*T) * norm.cdf(d2)\n",
    "    call[S < eps] = 0.0\n",
    "    return call\n",
    "\n",
    "u_analytical = black_scholes_call(S_vals, K, T, r, sigma)"
   ]
  },
  {
   "cell_type": "markdown",
   "id": "7c6e7743-4195-49c9-a4fd-edfbaddffd4a",
   "metadata": {},
   "source": [
    "### Plotting the Solutions"
   ]
  },
  {
   "cell_type": "code",
   "execution_count": 9,
   "id": "035beee1-aa98-444d-88ad-5adb0bb83041",
   "metadata": {},
   "outputs": [
    {
     "data": {
      "image/png": "[encoded data removed]",
      "text/plain": [
       "<Figure size 576x432 with 1 Axes>"
      ]
     },
     "metadata": {
      "needs_background": "light"
     },
     "output_type": "display_data"
    }
   ],
   "source": [
    "\n",
    "# %%\n",
    "plt.figure(figsize=(8,6))\n",
    "plt.plot(S_vals, u_pred, label='PINN Solution at t=0', lw=2)\n",
    "plt.plot(S_vals, u_analytical, '--', label='Analytical Black-Scholes', lw=2)\n",
    "plt.xlabel('Asset Price S')\n",
    "plt.ylabel('Option Price V')\n",
    "plt.title('European Call Option Price via PINNs')\n",
    "plt.legend()\n",
    "plt.grid(True)\n",
    "plt.show()"
   ]
  },
  {
   "cell_type": "markdown",
   "id": "4805a929-ddf6-4831-b71d-cba15277628e",
   "metadata": {},
   "source": [
    "### Error Analysis\n",
    "\n",
    "We plot the absolute error between the PINN solution and the analytical solution."
   ]
  },
  {
   "cell_type": "code",
   "execution_count": 10,
   "id": "ecba593f-e368-4132-b19a-08649d6511c9",
   "metadata": {},
   "outputs": [
    {
     "data": {
      "image/png": "[encoded data removed]",
      "text/plain": [
       "<Figure size 576x432 with 1 Axes>"
      ]
     },
     "metadata": {
      "needs_background": "light"
     },
     "output_type": "display_data"
    }
   ],
   "source": [
    "error = np.abs(u_pred - u_analytical)\n",
    "plt.figure(figsize=(8,6))\n",
    "plt.plot(S_vals, error, label='Absolute Error', lw=2)\n",
    "plt.xlabel('Asset Price S')\n",
    "plt.ylabel('Absolute Error')\n",
    "plt.title('Absolute Error between PINN and Analytical Solution')\n",
    "plt.legend()\n",
    "plt.grid(True)\n",
    "plt.show()\n"
   ]
  },
  {
   "cell_type": "code",
   "execution_count": null,
   "id": "eb75dfe6-cd5c-4271-800c-5e032cc2f1bb",
   "metadata": {},
   "outputs": [],
   "source": []
  },
  {
   "cell_type": "code",
   "execution_count": null,
   "id": "d6e8c3cd-f103-498a-ad2b-d3440f83a7ec",
   "metadata": {},
   "outputs": [],
   "source": []
  }
 ],
 "metadata": {
  "kernelspec": {
   "display_name": "Python 3 (ipykernel)",
   "language": "python",
   "name": "python3"
  },
  "language_info": {
   "codemirror_mode": {
    "name": "ipython",
    "version": 3
   },
   "file_extension": ".py",
   "mimetype": "text/x-python",
   "name": "python",
   "nbconvert_exporter": "python",
   "pygments_lexer": "ipython3",
   "version": "3.10.12"
  }
 },
 "nbformat": 4,
 "nbformat_minor": 5
}
